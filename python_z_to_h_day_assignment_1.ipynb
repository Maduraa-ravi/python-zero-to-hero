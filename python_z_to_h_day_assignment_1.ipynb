{
  "nbformat": 4,
  "nbformat_minor": 0,
  "metadata": {
    "colab": {
      "name": "python z to h day  assignment 1.ipynb",
      "provenance": [],
      "collapsed_sections": [],
      "authorship_tag": "ABX9TyPNKsJoU97FyDxcRsL0znlG",
      "include_colab_link": true
    },
    "kernelspec": {
      "name": "python3",
      "display_name": "Python 3"
    },
    "language_info": {
      "name": "python"
    }
  },
  "cells": [
    {
      "cell_type": "markdown",
      "metadata": {
        "id": "view-in-github",
        "colab_type": "text"
      },
      "source": [
        "<a href=\"https://colab.research.google.com/github/Maduraa-ravi/python-zero-to-hero/blob/main/python_z_to_h_day_assignment_1.ipynb\" target=\"_parent\"><img src=\"https://colab.research.google.com/assets/colab-badge.svg\" alt=\"Open In Colab\"/></a>"
      ]
    },
    {
      "cell_type": "code",
      "metadata": {
        "colab": {
          "base_uri": "https://localhost:8080/"
        },
        "id": "JumAgjT_4IQZ",
        "outputId": "6d09708b-44f0-465a-a3bd-7a1a72ded9e1"
      },
      "source": [
        " #REVERSE A LIST\n",
        " x=[int (i) for i in input(\"enter values: \").split()]\n",
        " print(x)\n",
        " x.sort(reverse=True)\n",
        " print(x)\n",
        "\n"
      ],
      "execution_count": null,
      "outputs": [
        {
          "output_type": "stream",
          "text": [
            "enter values:  35 25 15 45 75 \n",
            "[35, 25, 15, 45, 75]\n",
            "[75, 45, 35, 25, 15]\n"
          ],
          "name": "stdout"
        }
      ]
    }
  ]
}