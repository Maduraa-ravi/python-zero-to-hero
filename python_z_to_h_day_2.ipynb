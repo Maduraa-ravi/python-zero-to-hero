{
  "nbformat": 4,
  "nbformat_minor": 0,
  "metadata": {
    "colab": {
      "name": "python z to h day 2.ipynb",
      "provenance": [],
      "collapsed_sections": [],
      "authorship_tag": "ABX9TyPeZIFiUvPQ/dYxSBLSP52B",
      "include_colab_link": true
    },
    "kernelspec": {
      "name": "python3",
      "display_name": "Python 3"
    },
    "language_info": {
      "name": "python"
    }
  },
  "cells": [
    {
      "cell_type": "markdown",
      "metadata": {
        "id": "view-in-github",
        "colab_type": "text"
      },
      "source": [
        "<a href=\"https://colab.research.google.com/github/Maduraa-ravi/python-zero-to-hero/blob/main/python_z_to_h_day_2.ipynb\" target=\"_parent\"><img src=\"https://colab.research.google.com/assets/colab-badge.svg\" alt=\"Open In Colab\"/></a>"
      ]
    },
    {
      "cell_type": "code",
      "metadata": {
        "id": "Dd6Mf0Vylmm-"
      },
      "source": [
        ""
      ],
      "execution_count": null,
      "outputs": []
    },
    {
      "cell_type": "code",
      "metadata": {
        "id": "3k_9FhkEm3U4",
        "colab": {
          "base_uri": "https://localhost:8080/"
        },
        "outputId": "74dbdb41-7791-4963-eba3-9b9a92ce102c"
      },
      "source": [
        "#DAY 2 ASSIGNMENT\n",
        "#to remove all the occurenece of an elemnt in a list\n",
        "li=[1,2,3,3,4]\n",
        "print(li)\n",
        "list(filter(lambda a:a!=3,li))\n"
      ],
      "execution_count": null,
      "outputs": [
        {
          "output_type": "stream",
          "text": [
            "[1, 2, 3, 3, 4]\n"
          ],
          "name": "stdout"
        },
        {
          "output_type": "execute_result",
          "data": {
            "text/plain": [
              "[1, 2, 4]"
            ]
          },
          "metadata": {
            "tags": []
          },
          "execution_count": 7
        }
      ]
    },
    {
      "cell_type": "code",
      "metadata": {
        "colab": {
          "base_uri": "https://localhost:8080/"
        },
        "id": "g-XJj49Jo1A_",
        "outputId": "9d64d8aa-fd1c-4c74-9347-08e32fa6da32"
      },
      "source": [
        "#PROJECT :TO GENERATE A OTP\n",
        "import random\n",
        "import string\n",
        "length= 8\n",
        "otp= ''\n",
        "characters = string.ascii_letters+ string.digits\n",
        "for i in range(length):\n",
        "  otp = otp + random.choice(characters)\n",
        "print('OTP',otp)"
      ],
      "execution_count": null,
      "outputs": [
        {
          "output_type": "stream",
          "text": [
            "OTP TJ7QvArz\n"
          ],
          "name": "stdout"
        }
      ]
    }
  ]
}